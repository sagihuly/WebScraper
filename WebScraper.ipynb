{
 "cells": [
  {
   "attachments": {},
   "cell_type": "markdown",
   "metadata": {},
   "source": [
    "# Webscraper\n",
    "\n",
    "For best results, please use a *specific* search term, and a short number of pages.\n",
    "\n",
    "In order to start, click \"Run All\" and Enjoy! \n",
    "\n",
    "\n",
    "## imports"
   ]
  },
  {
   "cell_type": "code",
   "execution_count": 49,
   "metadata": {},
   "outputs": [],
   "source": [
    "#pip install selenium\n",
    "#pip install bs4\n",
    "\n",
    "from bs4 import BeautifulSoup\n",
    "from selenium import webdriver\n",
    "import numpy as np\n"
   ]
  },
  {
   "cell_type": "markdown",
   "metadata": {},
   "source": [
    "## helper functions "
   ]
  },
  {
   "cell_type": "code",
   "execution_count": 50,
   "metadata": {},
   "outputs": [],
   "source": [
    "def get_url(search_term):\n",
    "    template = 'https://www.amazon.com/s?k={}&ref=nb_sb_noss_1'\n",
    "    search_term = search_term.replace(' ','+')\n",
    "\n",
    "    # enable page query\n",
    "    url = template.format(search_term)\n",
    "    url +='&page={}'\n",
    "\n",
    "    return url"
   ]
  },
  {
   "cell_type": "code",
   "execution_count": 51,
   "metadata": {},
   "outputs": [],
   "source": [
    "def get_url_newegg(search_term):\n",
    "    template = 'https://www.newegg.com/p/pl?d={}'\n",
    "    search_term = search_term.replace(' ','+')\n",
    "\n",
    "    # enable page query\n",
    "    url = template.format(search_term)\n",
    "    url +='&page={}'\n",
    "\n",
    "    return url"
   ]
  },
  {
   "cell_type": "code",
   "execution_count": 52,
   "metadata": {},
   "outputs": [],
   "source": [
    "def extract_products_data(item ):\n",
    "    # return a single product data from page\n",
    "\n",
    "    # page ,discription and url\n",
    "    atag = item.h2.a\n",
    "    try:\n",
    "        description =atag.text.strip()\n",
    "    except AttributeError:\n",
    "        description = 'description is not available for this product'\n",
    "    \n",
    "    try:\n",
    "        url = 'https://www.amazon.com' + atag.get('href')\n",
    "    except AttributeError:\n",
    "        url ='url not found - please try another product'\n",
    "    \n",
    "    try:\n",
    "        # get prices\n",
    "        price_parent = item.find('span', 'a-price')\n",
    "        price = price_parent.find('span','a-offscreen').text[1:]\n",
    "    except AttributeError:\n",
    "        return\n",
    "        \n",
    "    result = (description, price,url)\n",
    "    \n",
    "    \n",
    "    return result "
   ]
  },
  {
   "cell_type": "code",
   "execution_count": 53,
   "metadata": {},
   "outputs": [],
   "source": [
    "def extract_products_data_newegg(item):\n",
    "    # return a single product data from page\n",
    "\n",
    "    # page ,discription and url\n",
    "    atag = item.div.a\n",
    "    try:\n",
    "        description =item.div.a.img.get('title')\n",
    "    except AttributeError:\n",
    "        description = 'description is not available for this product'\n",
    "    \n",
    "    try:\n",
    "        url = atag.get('href')\n",
    "    except AttributeError:\n",
    "        url = 'url not found - please try another product'\n",
    "\n",
    "    try:\n",
    "        # get prices\n",
    "        price_parent = item.find('li', 'price-current')\n",
    "        price = price_parent.find('strong').text + price_parent.find('sup').text\n",
    "        # shipping_fee = price_parent.find('li', 'price-ship').text\n",
    "    except AttributeError:\n",
    "        return\n",
    "        \n",
    "    result = (description, price,url)\n",
    "    \n",
    "    \n",
    "    return result "
   ]
  },
  {
   "cell_type": "code",
   "execution_count": 54,
   "metadata": {},
   "outputs": [],
   "source": [
    "def cheapest_in_list(data,prices):\n",
    "    # get cheapest product from data\n",
    "    prices = np.array(prices)\n",
    "    cheapest_product = data[np.argmin(prices)]\n",
    "    return cheapest_product"
   ]
  },
  {
   "cell_type": "code",
   "execution_count": 55,
   "metadata": {},
   "outputs": [],
   "source": [
    "def display_cheapest(cheapest_product):\n",
    "    driver = webdriver.Chrome()\n",
    "    driver.get(cheapest_product[2])"
   ]
  },
  {
   "cell_type": "markdown",
   "metadata": {},
   "source": [
    "## Amazon function"
   ]
  },
  {
   "cell_type": "code",
   "execution_count": 56,
   "metadata": {},
   "outputs": [],
   "source": [
    "def amazon_scraper(search_term,page_number):\n",
    "    # startup webdriver \n",
    "    driver = webdriver.Chrome()\n",
    "\n",
    "    amazon_products_data = []\n",
    "    amazon_prices = []\n",
    "    url = get_url(search_term)\n",
    "\n",
    "    for page in range(1,page_number):\n",
    "        driver.get(url.format(page))\n",
    "        soup = BeautifulSoup(driver.page_source, 'html.parser')\n",
    "        results = soup.find_all('div', {'data-component-type': 's-search-result'})\n",
    "\n",
    "        for item in results:\n",
    "            product = extract_products_data(item)\n",
    "            if(product):\n",
    "                amazon_products_data.append(product)\n",
    "                amazon_prices.append(float(product[1].replace(',','')))\n",
    "    \n",
    "    driver.close()\n",
    "\n",
    "    # get cheapest product from amazon \n",
    "    cheapest_amazon_product = cheapest_in_list(amazon_products_data,amazon_prices)\n",
    "    \n",
    "    \n",
    "    return (amazon_products_data, amazon_prices, cheapest_amazon_product)\n",
    "\n"
   ]
  },
  {
   "cell_type": "markdown",
   "metadata": {},
   "source": [
    "## Newegg function"
   ]
  },
  {
   "cell_type": "code",
   "execution_count": 57,
   "metadata": {},
   "outputs": [],
   "source": [
    "def newegg_scraper(search_term,page_number):\n",
    "    newegg_products_data = []\n",
    "    newegg_prices = []\n",
    "    # startup webdriver \n",
    "    driver = webdriver.Chrome()\n",
    "    url = get_url_newegg(search_term)\n",
    "\n",
    "    for page in range(1,page_number):\n",
    "        driver.get(url.format(page))\n",
    "        soup = BeautifulSoup(driver.page_source, 'html.parser')\n",
    "        results = soup.find_all('div', {'class': 'item-cell'})\n",
    "\n",
    "        for item in results:\n",
    "            product = extract_products_data_newegg(item)\n",
    "            if(product):\n",
    "                newegg_products_data.append(product)\n",
    "                newegg_prices.append(float(product[1].replace(',','')))\n",
    "    \n",
    "    driver.close()\n",
    "    # get cheapest product from amazon \n",
    "    cheapest_newegg_product = cheapest_in_list(newegg_products_data,newegg_prices)\n",
    "    \n",
    "    \n",
    "    return (newegg_products_data, newegg_prices, cheapest_newegg_product)\n",
    "\n"
   ]
  },
  {
   "cell_type": "markdown",
   "metadata": {},
   "source": [
    "### inputs function"
   ]
  },
  {
   "cell_type": "code",
   "execution_count": 58,
   "metadata": {},
   "outputs": [],
   "source": [
    "def take_inputs():\n",
    "    # taking inputs from user\n",
    "    search_term = input(\"Please enter your product of interest: \")\n",
    "    prime_or_not = input(\"Are you an Amazon-Prime user (yes/no)? \")\n",
    "\n",
    "    if not(prime_or_not.lower() == 'yes' or prime_or_not.lower() == 'no'):\n",
    "        print('Type yes or no')\n",
    "\n",
    "\n",
    "    number_of_pages = input(\"Please type the number of pages you would like to search thru (keep in mind that high numbers can cause long runtime and less accurate results): \")\n",
    "    try:\n",
    "        number_of_pages = int(number_of_pages) + 1 \n",
    "    except ValueError:\n",
    "        number_of_pages = 5 \n",
    "    \n",
    "        \n",
    "    return search_term, prime_or_not , number_of_pages\n"
   ]
  },
  {
   "cell_type": "markdown",
   "metadata": {},
   "source": [
    "### Main helper function"
   ]
  },
  {
   "cell_type": "code",
   "execution_count": 59,
   "metadata": {},
   "outputs": [],
   "source": [
    "def cheapest_overall(cheapest_amazon,amazon_prices,amazon_data,cheapest_newegg,newegg_data, newegg_prices):\n",
    "    # find cheapest product overall, remove said prduct from list and returns product data + name of website\n",
    "    if(float(cheapest_amazon[1])<float(cheapest_newegg[1])):\n",
    "        amazon_prices.remove(float(cheapest_amazon[1]))\n",
    "        amazon_data.remove(cheapest_amazon)\n",
    "        return cheapest_amazon , 'Amazon'\n",
    "    else:\n",
    "        newegg_prices.remove(float(cheapest_newegg[1]))\n",
    "        newegg_data.remove(cheapest_newegg)\n",
    "        return cheapest_amazon , 'Newegg'"
   ]
  },
  {
   "cell_type": "markdown",
   "metadata": {},
   "source": [
    "# main function "
   ]
  },
  {
   "cell_type": "code",
   "execution_count": 60,
   "metadata": {},
   "outputs": [
    {
     "name": "stdout",
     "output_type": "stream",
     "text": [
      "The following product is brought to you from Amazon\n",
      "('OGX Hydrating + Tea Tree Mint Shampoo, Nourishing & Invigorating Scalp Shampoo with Tea Tree & Peppermint Oil & Milk Proteins, Paraben-Free, Sulfate-Free Surfactants, 13 fl oz', '5.59', 'https://www.amazon.com/OGX-Invigorating-Paraben-Free-Sulfate-Free-Surfactants/dp/B000TGC8D2/ref=sr_1_38?keywords=shampoo&qid=1672176601&sr=8-38')\n"
     ]
    }
   ],
   "source": [
    "\n",
    "def main():   \n",
    "    # take input from user\n",
    "    search_term, prime_or_not , number_of_pages = take_inputs()\n",
    "    \n",
    "    # scrape Amazon and Newegg for products data and find cheapest products \n",
    "    amazon_data, amazon_prices, cheapest_amazon_product = amazon_scraper(search_term,number_of_pages)\n",
    "    newegg_data, newegg_prices, cheapest_newegg_product = newegg_scraper(search_term,number_of_pages)\n",
    "\n",
    "    # find cheapest product overall \n",
    "    cur_cheapest , cur_cheapest_website = cheapest_overall( cheapest_amazon_product, amazon_prices,amazon_data,cheapest_newegg_product, newegg_data, newegg_prices )\n",
    "\n",
    "    # display product\n",
    "    print('The following product is brought to you from ' + cur_cheapest_website)\n",
    "    print(cur_cheapest)\n",
    "    display_cheapest(cur_cheapest)\n",
    "    \n",
    "    # if client is not satisfied with the first result, remove last result from data and try the next cheapest product\n",
    "    inp = True\n",
    "    while(inp):\n",
    "        inp = input(\"If you would like to check the next cheapest product type anything, otherwise press Enter\")\n",
    "        if(inp):\n",
    "            # get next cheapest product \n",
    "            cheapest_amazon_product = cheapest_in_list(amazon_data,amazon_prices)\n",
    "            cheapest_newegg_product = cheapest_in_list(newegg_data,newegg_prices)\n",
    "            cheapest_cur, cur_cheapest_website = cheapest_overall(cheapest_amazon_product, amazon_prices,amazon_data,cheapest_newegg_product, newegg_data, newegg_prices)\n",
    "\n",
    "            # display product and prints product data in case client would like to use it later \n",
    "            print('The following product is brought to you from ' + cur_cheapest_website)\n",
    "            print(cheapest_cur)\n",
    "            display_cheapest(cheapest_cur)\n",
    "            \n",
    "\n",
    "        \n",
    "        \n",
    "\n",
    "\n",
    "main()"
   ]
  }
 ],
 "metadata": {
  "kernelspec": {
   "display_name": "Python 3.9.7 ('base')",
   "language": "python",
   "name": "python3"
  },
  "language_info": {
   "codemirror_mode": {
    "name": "ipython",
    "version": 3
   },
   "file_extension": ".py",
   "mimetype": "text/x-python",
   "name": "python",
   "nbconvert_exporter": "python",
   "pygments_lexer": "ipython3",
   "version": "3.9.7"
  },
  "orig_nbformat": 4,
  "vscode": {
   "interpreter": {
    "hash": "0e9b5ae715f0d67ca36a80a5b9a96e76a6c1644d51489bb204e5e822fb032739"
   }
  }
 },
 "nbformat": 4,
 "nbformat_minor": 2
}
